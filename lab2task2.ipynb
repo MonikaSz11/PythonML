{
  "nbformat": 4,
  "nbformat_minor": 0,
  "metadata": {
    "colab": {
      "provenance": [],
      "authorship_tag": "ABX9TyMo9fGJ8edVn311gChDpJbJ",
      "include_colab_link": true
    },
    "kernelspec": {
      "name": "python3",
      "display_name": "Python 3"
    },
    "language_info": {
      "name": "python"
    }
  },
  "cells": [
    {
      "cell_type": "markdown",
      "metadata": {
        "id": "view-in-github",
        "colab_type": "text"
      },
      "source": [
        "<a href=\"https://colab.research.google.com/github/MonikaSz11/PythonML/blob/while_variant/lab2task2.ipynb\" target=\"_parent\"><img src=\"https://colab.research.google.com/assets/colab-badge.svg\" alt=\"Open In Colab\"/></a>"
      ]
    },
    {
      "cell_type": "code",
      "execution_count": 1,
      "metadata": {
        "id": "0bH5q6wELrIC"
      },
      "outputs": [],
      "source": [
        "mylist = [\"Red Bull\", \"Mercedes\", \"McLaren\", \"Ferrari\", \"Alpine\"]"
      ]
    },
    {
      "cell_type": "code",
      "source": [
        "i = 0\n",
        "while i < len(mylist):\n",
        "  print(mylist[i])\n",
        "  i = i+1"
      ],
      "metadata": {
        "colab": {
          "base_uri": "https://localhost:8080/"
        },
        "id": "QqPJiuMsM2M0",
        "outputId": "a7160654-d3c0-47d9-f1e0-144a06104f87"
      },
      "execution_count": 8,
      "outputs": [
        {
          "output_type": "stream",
          "name": "stdout",
          "text": [
            "Red Bull\n",
            "Mercedes\n",
            "McLaren\n",
            "Ferrari\n",
            "Alpine\n"
          ]
        }
      ]
    }
  ]
}